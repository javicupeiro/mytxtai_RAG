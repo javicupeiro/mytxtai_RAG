{
 "cells": [
  {
   "cell_type": "markdown",
   "metadata": {},
   "source": [
    "# Testing txtai embeddings\n",
    "\n",
    "This notebook checks txtai embedding capabilities"
   ]
  },
  {
   "cell_type": "markdown",
   "metadata": {},
   "source": [
    "We will use Don Quijote book from project Gutenberg"
   ]
  },
  {
   "cell_type": "code",
   "execution_count": 30,
   "metadata": {},
   "outputs": [],
   "source": [
    "from txtai import Embeddings"
   ]
  },
  {
   "cell_type": "code",
   "execution_count": 31,
   "metadata": {},
   "outputs": [],
   "source": [
    "# !curl https://www.gutenberg.org/cache/epub/2000/pg2000.txt -o ../input/Don_Quijote.txt"
   ]
  },
  {
   "cell_type": "markdown",
   "metadata": {},
   "source": [
    "## Embeddings models\n",
    "\n",
    "By default the model use is 'all-MiniLM-l6-v2' (https://neuml.github.io/txtai/models/). This model is light and its allowed even for commercial use. \n",
    "\n",
    "Here is the official Embedding page from txtai:  https://neuml.github.io/txtai/embeddings/\n",
    "\n",
    "Short tutorial: [colab](https://colab.research.google.com/github/neuml/txtai/blob/master/examples/01_Introducing_txtai.ipynb#scrollTo=QxX9EtIc6Xzg)\n",
    "\n",
    "Here is a table of some relevant models that can be used:\n",
    "\n",
    "\n",
    "| Model | Dimensions | Size | Speed | Spanish Performance | English Performance | Multilingual Support | Memory Usage | Best Use Case |\n",
    "|-------|------------|------|-------|-------------------|-------------------|-------------------|---------------|--------------|\n",
    "| all-MiniLM-L6-v2 | 384 | ~80MB | Very Fast | Medium (6.5/10) | Excellent (9/10) | Limited | Low | English-focused projects with resource constraints |\n",
    "| nli-mpnet-base-v2 | 768 | ~420MB | Medium | Medium (6/10) | Excellent (9.5/10) | Limited | High | High-precision English semantic tasks |\n",
    "| paraphrase-multilingual-mpnet-base-v2 | 768 | ~1.1GB | Slow | Excellent (8.5/10) | Excellent (9/10) | Strong (100+ languages) | High | Production multilingual applications |\n",
    "| LaBSE | 768 | ~1.5GB | Slow | Excellent (9/10) | Excellent (8.5/10) | Strong (109 languages) | Very High | Cross-lingual information retrieval |"
   ]
  },
  {
   "cell_type": "markdown",
   "metadata": {},
   "source": [
    "Declare data in spanish and english to check how txtai embeddings works with different models"
   ]
  },
  {
   "cell_type": "code",
   "execution_count": 32,
   "metadata": {},
   "outputs": [],
   "source": [
    "data_es = [\n",
    "  \"EEUU supera los 5 millones de casos confirmados de virus\",\n",
    "  \"Se derrumba en Canadá una gran placa de hielo, formando un iceberg del tamaño de Manhattan\",\n",
    "  \"La capital china moviliza embarcaciones militares a lo largo de la costa mientras aumentan las tensiones con Taiwán\",\n",
    "  \"El Servicio de Parques Nacionales advierte del incremento de ataques de osos\",\n",
    "  \"Hombre de Maine gana $1M con un billete de lotería de $25\",\n",
    "  \"Obtenga grandes ganancias sin trabajo, gane hasta $100000 al día\"\n",
    "]\n",
    "\n",
    "data_en = [\n",
    "  \"US tops 5 million confirmed virus cases\",\n",
    "  \"Canada's last fully intact ice shelf has suddenly collapsed, forming a Manhattan-sized iceberg\",\n",
    "  \"Beijing mobilises invasion craft along coast as Taiwan tensions escalate\",\n",
    "  \"The National Park Service warns against sacrificing slower friends in a bear attack\",\n",
    "  \"Maine man wins $1M from $25 lottery ticket\",\n",
    "  \"Make huge profits without work, earn up to $100,000 a day\"\n",
    "]"
   ]
  },
  {
   "cell_type": "markdown",
   "metadata": {},
   "source": [
    "Create embeddings for english and spanish text"
   ]
  },
  {
   "cell_type": "code",
   "execution_count": 33,
   "metadata": {},
   "outputs": [],
   "source": [
    "# Create an embedding for english text\n",
    "en_beddings = Embeddings(path=\"sentence-transformers/nli-mpnet-base-v2\")"
   ]
  },
  {
   "cell_type": "code",
   "execution_count": null,
   "metadata": {},
   "outputs": [],
   "source": [
    "# best model for spanish text: \"sentence-transformers/all-MiniLM-L6-v2\"\n",
    "model1 = \"sentence-transformers/all-mpnet-base-v2\"\n",
    "model2 = \"sentence-transformers/paraphrase-multilingual-MiniLM-L12-v2\"\n",
    "model3 = \"sentence-transformers/paraphrase-MiniLM-L6-v2\""
   ]
  },
  {
   "cell_type": "code",
   "execution_count": 35,
   "metadata": {},
   "outputs": [],
   "source": [
    "# Create an embedding for spanish text\n",
    "#es_beddings = Embeddings(path=\"sentence-transformers/paraphrase-multilingual-mpnet-base-v2\")\n",
    "es_beddings = Embeddings(path= model1)"
   ]
  },
  {
   "cell_type": "code",
   "execution_count": 36,
   "metadata": {},
   "outputs": [],
   "source": [
    "#es2_beddings = Embeddings(path=\"sentence-transformers/all-MiniLM-L6-v2\")\n",
    "es2_beddings = Embeddings(path= model2)"
   ]
  },
  {
   "cell_type": "code",
   "execution_count": 37,
   "metadata": {},
   "outputs": [],
   "source": [
    "#es3_beddings = Embeddings(path=\"sentence-transformers/distiluse-base-multilingual-cased-v2\")\n",
    "es3_beddings = Embeddings(path= model3)"
   ]
  },
  {
   "cell_type": "markdown",
   "metadata": {},
   "source": [
    "Lets check if we can retrieve the sentences with some queries\n",
    "\n",
    "### English embeddings:"
   ]
  },
  {
   "cell_type": "code",
   "execution_count": 38,
   "metadata": {},
   "outputs": [
    {
     "name": "stdout",
     "output_type": "stream",
     "text": [
      "Query                Best Match\n",
      "--------------------------------------------------\n",
      "feel good story      Maine man wins $1M from $25 lottery ticket\n",
      "climate change       Canada's last fully intact ice shelf has suddenly collapsed, forming a Manhattan-sized iceberg\n",
      "public health story  US tops 5 million confirmed virus cases\n",
      "war                  Beijing mobilises invasion craft along coast as Taiwan tensions escalate\n",
      "wildlife             The National Park Service warns against sacrificing slower friends in a bear attack\n",
      "asia                 Beijing mobilises invasion craft along coast as Taiwan tensions escalate\n",
      "lucky                Maine man wins $1M from $25 lottery ticket\n",
      "dishonest junk       Make huge profits without work, earn up to $100,000 a day\n"
     ]
    }
   ],
   "source": [
    "# English embeddings with english data\n",
    "\n",
    "# Create an index for the list of text\n",
    "en_beddings.index(data_en)\n",
    "\n",
    "print(\"%-20s %s\" % (\"Query\", \"Best Match\"))\n",
    "print(\"-\" * 50)\n",
    "\n",
    "# Run an embeddings search for each query\n",
    "for query in (\"feel good story\", \"climate change\", \"public health story\", \"war\", \"wildlife\", \"asia\", \"lucky\", \"dishonest junk\"):\n",
    "  # Extract uid of first result\n",
    "  # search result format: (uid, score)\n",
    "  uid = en_beddings.search(query, 1)[0][0]\n",
    "\n",
    "  # Print text\n",
    "  print(\"%-20s %s\" % (query, data_en[uid]))"
   ]
  },
  {
   "cell_type": "code",
   "execution_count": 39,
   "metadata": {},
   "outputs": [
    {
     "name": "stdout",
     "output_type": "stream",
     "text": [
      "Query                Best Match\n",
      "--------------------------------------------------\n",
      "historia feliz       El Servicio de Parques Nacionales advierte del incremento de ataques de osos\n",
      "cambio climático     Se derrumba en Canadá una gran placa de hielo, formando un iceberg del tamaño de Manhattan\n",
      "salud pública        El Servicio de Parques Nacionales advierte del incremento de ataques de osos\n",
      "guerra               El Servicio de Parques Nacionales advierte del incremento de ataques de osos\n",
      "vida salvaje         El Servicio de Parques Nacionales advierte del incremento de ataques de osos\n",
      "asia                 La capital china moviliza embarcaciones militares a lo largo de la costa mientras aumentan las tensiones con Taiwán\n",
      "suerte               Obtenga grandes ganancias sin trabajo, gane hasta $100000 al día\n",
      "estafa               El Servicio de Parques Nacionales advierte del incremento de ataques de osos\n"
     ]
    }
   ],
   "source": [
    "# English embeddings with spanish data\n",
    "\n",
    "# Create an index for the list of text\n",
    "en_beddings.index(data_es)\n",
    "\n",
    "print(\"%-20s %s\" % (\"Query\", \"Best Match\"))\n",
    "print(\"-\" * 50)\n",
    "\n",
    "# Run an embeddings search for each query\n",
    "for query in (\"historia feliz\", \"cambio climático\", \"salud pública\", \"guerra\", \"vida salvaje\", \"asia\", \"suerte\", \"estafa\"):\n",
    "  # Extract uid of first result\n",
    "  # search result format: (uid, score)\n",
    "  uid = en_beddings.search(query, 1)[0][0]\n",
    "\n",
    "  # Print text\n",
    "  print(\"%-20s %s\" % (query, data_es[uid]))"
   ]
  },
  {
   "cell_type": "markdown",
   "metadata": {},
   "source": [
    "### Spanish embeddings:\n",
    "\n",
    "I have employed several models but all of them perform worse than \"paraphrase-multilingual-mpnet-base-v2\".\n",
    "\n",
    "Additionally, it appears to be quite sensitive to words with or without capitalization and doesn't seem to work well with synonyms."
   ]
  },
  {
   "cell_type": "code",
   "execution_count": 40,
   "metadata": {},
   "outputs": [
    {
     "name": "stdout",
     "output_type": "stream",
     "text": [
      "Query                Mejor coincidencia\n",
      "--------------------------------------------------\n",
      "historia feliz       Obtenga grandes ganancias sin trabajo, gane hasta $100000 al día\n",
      "cambio climático     Se derrumba en Canadá una gran placa de hielo, formando un iceberg del tamaño de Manhattan\n",
      "salud pública        Obtenga grandes ganancias sin trabajo, gane hasta $100000 al día\n",
      "enfermedades         EEUU supera los 5 millones de casos confirmados de virus\n",
      "guerra               Hombre de Maine gana $1M con un billete de lotería de $25\n",
      "vida salvaje         EEUU supera los 5 millones de casos confirmados de virus\n",
      "Asia                 La capital china moviliza embarcaciones militares a lo largo de la costa mientras aumentan las tensiones con Taiwán\n",
      "asia                 La capital china moviliza embarcaciones militares a lo largo de la costa mientras aumentan las tensiones con Taiwán\n",
      "suerte               Obtenga grandes ganancias sin trabajo, gane hasta $100000 al día\n",
      "estafa               Se derrumba en Canadá una gran placa de hielo, formando un iceberg del tamaño de Manhattan\n",
      "timo                 Obtenga grandes ganancias sin trabajo, gane hasta $100000 al día\n"
     ]
    }
   ],
   "source": [
    "# Spanish embeddings with spanish data\n",
    "# (paraphrase-multilingual-mpnet-base-v2)\n",
    "\n",
    "# Create an index for the list of text\n",
    "es_beddings.index(data_es)\n",
    "\n",
    "print(\"%-20s %s\" % (\"Query\", \"Mejor coincidencia\"))\n",
    "print(\"-\" * 50)\n",
    "\n",
    "# Run an embeddings search for each query\n",
    "for query in (\"historia feliz\", \"cambio climático\", \"salud pública\", \"enfermedades\", \"guerra\", \"vida salvaje\", \"Asia\", \"asia\", \"suerte\", \"estafa\", \"timo\"):\n",
    "  # Extract uid of first result\n",
    "  # search result format: (uid, score)\n",
    "  uid = es_beddings.search(query, 1)[0][0]\n",
    "\n",
    "  # Print text\n",
    "  print(\"%-20s %s\" % (query, data_es[uid]))"
   ]
  },
  {
   "cell_type": "markdown",
   "metadata": {},
   "source": [
    "**Context**:\n",
    "We can see that \"salud pública\" query doesn't math with virus story.\n",
    "\n",
    "**Lower/upper case**:\n",
    "\n",
    "It doesn't get the same answer with 'Asia' and 'asia'\n",
    "\n",
    "**Synonyms**:\n",
    "\n",
    "estafa and timo are synonyms but they don't match in this example"
   ]
  },
  {
   "cell_type": "code",
   "execution_count": 41,
   "metadata": {},
   "outputs": [
    {
     "name": "stdout",
     "output_type": "stream",
     "text": [
      "Query                Mejor coincidencia\n",
      "--------------------------------------------------\n",
      "historia feliz       Obtenga grandes ganancias sin trabajo, gane hasta $100000 al día\n",
      "cambio climático     Se derrumba en Canadá una gran placa de hielo, formando un iceberg del tamaño de Manhattan\n",
      "salud pública        El Servicio de Parques Nacionales advierte del incremento de ataques de osos\n",
      "enfermedades         EEUU supera los 5 millones de casos confirmados de virus\n",
      "guerra               La capital china moviliza embarcaciones militares a lo largo de la costa mientras aumentan las tensiones con Taiwán\n",
      "vida salvaje         El Servicio de Parques Nacionales advierte del incremento de ataques de osos\n",
      "Asia                 La capital china moviliza embarcaciones militares a lo largo de la costa mientras aumentan las tensiones con Taiwán\n",
      "asia                 Se derrumba en Canadá una gran placa de hielo, formando un iceberg del tamaño de Manhattan\n",
      "suerte               Hombre de Maine gana $1M con un billete de lotería de $25\n",
      "estafa               Se derrumba en Canadá una gran placa de hielo, formando un iceberg del tamaño de Manhattan\n",
      "timo                 Hombre de Maine gana $1M con un billete de lotería de $25\n"
     ]
    }
   ],
   "source": [
    "# Spanish embeddings with spanish data\n",
    "\n",
    "#es2_beddings = Embeddings(path=\"sentence-transformers/all-MiniLM-L6-v2\")\n",
    "\n",
    "# Create an index for the list of text\n",
    "es2_beddings.index(data_es)\n",
    "\n",
    "print(\"%-20s %s\" % (\"Query\", \"Mejor coincidencia\"))\n",
    "print(\"-\" * 50)\n",
    "\n",
    "# Run an embeddings search for each query\n",
    "for query in (\"historia feliz\", \"cambio climático\", \"salud pública\", \"enfermedades\", \"guerra\", \"vida salvaje\", \"Asia\", \"asia\", \"suerte\", \"estafa\", \"timo\"):\n",
    "  # Extract uid of first result\n",
    "  # search result format: (uid, score)\n",
    "  uid = es2_beddings.search(query, 1)[0][0]\n",
    "\n",
    "  # Print text\n",
    "  print(\"%-20s %s\" % (query, data_es[uid]))"
   ]
  },
  {
   "cell_type": "code",
   "execution_count": 42,
   "metadata": {},
   "outputs": [
    {
     "name": "stdout",
     "output_type": "stream",
     "text": [
      "Query                Mejor coincidencia\n",
      "--------------------------------------------------\n",
      "historia feliz       Obtenga grandes ganancias sin trabajo, gane hasta $100000 al día\n",
      "cambio climático     Se derrumba en Canadá una gran placa de hielo, formando un iceberg del tamaño de Manhattan\n",
      "salud pública        Obtenga grandes ganancias sin trabajo, gane hasta $100000 al día\n",
      "enfermedades         Se derrumba en Canadá una gran placa de hielo, formando un iceberg del tamaño de Manhattan\n",
      "guerra               Obtenga grandes ganancias sin trabajo, gane hasta $100000 al día\n",
      "vida salvaje         Obtenga grandes ganancias sin trabajo, gane hasta $100000 al día\n",
      "Asia                 La capital china moviliza embarcaciones militares a lo largo de la costa mientras aumentan las tensiones con Taiwán\n",
      "asia                 La capital china moviliza embarcaciones militares a lo largo de la costa mientras aumentan las tensiones con Taiwán\n",
      "suerte               Hombre de Maine gana $1M con un billete de lotería de $25\n",
      "estafa               El Servicio de Parques Nacionales advierte del incremento de ataques de osos\n",
      "timo                 Obtenga grandes ganancias sin trabajo, gane hasta $100000 al día\n"
     ]
    }
   ],
   "source": [
    "# Spanish embeddings with spanish data\n",
    "\n",
    "#es3_beddings = Embeddings(path=\"sentence-transformers/distiluse-base-multilingual-cased-v2\")\n",
    "\n",
    "# Create an index for the list of text\n",
    "es3_beddings.index(data_es)\n",
    "\n",
    "print(\"%-20s %s\" % (\"Query\", \"Mejor coincidencia\"))\n",
    "print(\"-\" * 50)\n",
    "\n",
    "# Run an embeddings search for each query\n",
    "for query in (\"historia feliz\", \"cambio climático\", \"salud pública\", \"enfermedades\", \"guerra\", \"vida salvaje\", \"Asia\", \"asia\", \"suerte\", \"estafa\", \"timo\"):\n",
    "  # Extract uid of first result\n",
    "  # search result format: (uid, score)\n",
    "  uid = es3_beddings.search(query, 1)[0][0]\n",
    "\n",
    "  # Print text\n",
    "  print(\"%-20s %s\" % (query, data_es[uid]))"
   ]
  },
  {
   "cell_type": "markdown",
   "metadata": {},
   "source": [
    "## Hybrid search"
   ]
  },
  {
   "cell_type": "code",
   "execution_count": 43,
   "metadata": {},
   "outputs": [
    {
     "name": "stdout",
     "output_type": "stream",
     "text": [
      "Query                Best Match\n",
      "--------------------------------------------------\n",
      "feel good story      Maine man wins $1M from $25 lottery ticket\n",
      "climate change       Canada's last fully intact ice shelf has suddenly collapsed, forming a Manhattan-sized iceberg\n",
      "public health story  US tops 5 million confirmed virus cases\n",
      "war                  Beijing mobilises invasion craft along coast as Taiwan tensions escalate\n",
      "wildlife             The National Park Service warns against sacrificing slower friends in a bear attack\n",
      "asia                 Beijing mobilises invasion craft along coast as Taiwan tensions escalate\n",
      "lucky                Maine man wins $1M from $25 lottery ticket\n",
      "dishonest junk       Make huge profits without work, earn up to $100,000 a day\n"
     ]
    }
   ],
   "source": [
    "# Create an embeddings\n",
    "en_beddings = Embeddings(hybrid=True, path=\"sentence-transformers/nli-mpnet-base-v2\")\n",
    "\n",
    "# Create an index for the list of text\n",
    "en_beddings.index(data_en)\n",
    "\n",
    "print(\"%-20s %s\" % (\"Query\", \"Best Match\"))\n",
    "print(\"-\" * 50)\n",
    "\n",
    "# Run an embeddings search for each query\n",
    "for query in (\"feel good story\", \"climate change\", \"public health story\", \"war\", \"wildlife\", \"asia\", \"lucky\", \"dishonest junk\"):\n",
    "  # Extract uid of first result\n",
    "  # search result format: (uid, score)\n",
    "  uid = en_beddings.search(query, 1)[0][0]\n",
    "\n",
    "  # Print text\n",
    "  print(\"%-20s %s\" % (query, data_en[uid]))"
   ]
  },
  {
   "cell_type": "markdown",
   "metadata": {},
   "source": [
    "Same results as with semantic search. Let's run the same example with just a keyword index to view those results."
   ]
  },
  {
   "cell_type": "code",
   "execution_count": 44,
   "metadata": {},
   "outputs": [
    {
     "name": "stdout",
     "output_type": "stream",
     "text": [
      "[]\n",
      "[(4, np.float64(0.5234998733628726))]\n"
     ]
    }
   ],
   "source": [
    "# Create an embeddings\n",
    "en_beddings = Embeddings(keyword=True)\n",
    "\n",
    "# Create an index for the list of text\n",
    "en_beddings.index(data_en)\n",
    "\n",
    "print(en_beddings.search(\"feel good story\"))\n",
    "print(en_beddings.search(\"lottery\"))"
   ]
  },
  {
   "cell_type": "markdown",
   "metadata": {},
   "source": [
    "See that when the embeddings instance only uses a keyword index, it can't find semantic matches, only keyword matches.\n",
    "\n",
    "---\n",
    "\n",
    "Now in spanish"
   ]
  },
  {
   "cell_type": "code",
   "execution_count": 45,
   "metadata": {},
   "outputs": [
    {
     "name": "stdout",
     "output_type": "stream",
     "text": [
      "Query                Best Match\n",
      "--------------------------------------------------\n",
      "historia feliz       Obtenga grandes ganancias sin trabajo, gane hasta $100000 al día\n",
      "cambio climático     Se derrumba en Canadá una gran placa de hielo, formando un iceberg del tamaño de Manhattan\n",
      "salud pública        Obtenga grandes ganancias sin trabajo, gane hasta $100000 al día\n",
      "enfermedades         EEUU supera los 5 millones de casos confirmados de virus\n",
      "guerra               Hombre de Maine gana $1M con un billete de lotería de $25\n",
      "vida salvaje         EEUU supera los 5 millones de casos confirmados de virus\n",
      "Asia                 La capital china moviliza embarcaciones militares a lo largo de la costa mientras aumentan las tensiones con Taiwán\n",
      "asia                 La capital china moviliza embarcaciones militares a lo largo de la costa mientras aumentan las tensiones con Taiwán\n",
      "suerte               Obtenga grandes ganancias sin trabajo, gane hasta $100000 al día\n",
      "estafa               Se derrumba en Canadá una gran placa de hielo, formando un iceberg del tamaño de Manhattan\n",
      "timo                 Obtenga grandes ganancias sin trabajo, gane hasta $100000 al día\n"
     ]
    }
   ],
   "source": [
    "# Create an embeddings\n",
    "es_beddings = Embeddings(hybrid=True, path=model1)\n",
    "\n",
    "# Create an index for the list of text\n",
    "es_beddings.index(data_es)\n",
    "\n",
    "print(\"%-20s %s\" % (\"Query\", \"Best Match\"))\n",
    "print(\"-\" * 50)\n",
    "\n",
    "# Run an embeddings search for each query\n",
    "for query in (\"historia feliz\", \"cambio climático\", \"salud pública\", \"enfermedades\", \"guerra\", \"vida salvaje\", \"Asia\", \"asia\", \"suerte\", \"estafa\", \"timo\"):\n",
    "  # Extract uid of first result\n",
    "  # search result format: (uid, score)\n",
    "  uid = es_beddings.search(query, 1)[0][0]\n",
    "\n",
    "  # Print text\n",
    "  print(\"%-20s %s\" % (query, data_es[uid]))"
   ]
  },
  {
   "cell_type": "code",
   "execution_count": 46,
   "metadata": {},
   "outputs": [
    {
     "name": "stdout",
     "output_type": "stream",
     "text": [
      "[]\n",
      "[(4, np.float64(0.48952295316444056))]\n"
     ]
    }
   ],
   "source": [
    "# Create an embeddings\n",
    "es_beddings = Embeddings(keyword=True)\n",
    "\n",
    "# Create an index for the list of text\n",
    "es_beddings.index(data_es)\n",
    "\n",
    "print(es_beddings.search(\"historia feliz\"))\n",
    "print(es_beddings.search(\"lotería\"))"
   ]
  },
  {
   "cell_type": "markdown",
   "metadata": {},
   "source": [
    "## Topic modeling\n",
    "\n",
    "Topic modeling is enabled via semantic graphs. Semantic graphs, also known as knowledge graphs or semantic networks, build a graph network with semantic relationships connecting the nodes. In txtai, they can take advantage of the relationships inherently learned within an embeddings index."
   ]
  },
  {
   "cell_type": "code",
   "execution_count": 47,
   "metadata": {},
   "outputs": [
    {
     "data": {
      "text/plain": [
       "[{'topic': 'cases_million_us_confirmed',\n",
       "  'category': 'finance',\n",
       "  'text': 'US tops 5 million confirmed virus cases'},\n",
       " {'topic': 'ice_fully_has_sized',\n",
       "  'category': 'climate',\n",
       "  'text': \"Canada's last fully intact ice shelf has suddenly collapsed, forming a Manhattan-sized iceberg\"},\n",
       " {'topic': 'invasion_taiwan_beijing_along',\n",
       "  'category': 'world politics',\n",
       "  'text': 'Beijing mobilises invasion craft along coast as Taiwan tensions escalate'}]"
      ]
     },
     "execution_count": 47,
     "metadata": {},
     "output_type": "execute_result"
    }
   ],
   "source": [
    "# Create embeddings with a graph index\n",
    "en_beddings = Embeddings(\n",
    "  path=\"sentence-transformers/nli-mpnet-base-v2\",\n",
    "  content=True,\n",
    "  functions=[\n",
    "    {\"name\": \"graph\", \"function\": \"graph.attribute\"},\n",
    "  ],\n",
    "  expressions=[\n",
    "    {\"name\": \"category\", \"expression\": \"graph(indexid, 'category')\"},\n",
    "    {\"name\": \"topic\", \"expression\": \"graph(indexid, 'topic')\"},\n",
    "  ],\n",
    "  graph={\n",
    "    \"topics\": {\n",
    "      \"categories\": [\"health\", \"climate\", \"finance\", \"world politics\"]\n",
    "    }\n",
    "  }\n",
    ")\n",
    "\n",
    "en_beddings.index(data_en)\n",
    "# It's a query, ex: \"SELECT x,y,z FROM txtai\"\n",
    "en_beddings.search(\"select topic, category, text from txtai\")"
   ]
  },
  {
   "cell_type": "code",
   "execution_count": 49,
   "metadata": {},
   "outputs": [
    {
     "data": {
      "text/plain": [
       "[{'topic': 'confirmados_eeuu_supera_millones',\n",
       "  'category': 'finanzas',\n",
       "  'text': 'EEUU supera los 5 millones de casos confirmados de virus'},\n",
       " {'topic': 'gran_derrumba_del_un',\n",
       "  'category': 'guerra',\n",
       "  'text': 'Se derrumba en Canadá una gran placa de hielo, formando un iceberg del tamaño de Manhattan'},\n",
       " {'topic': 'moviliza_capital_tensiones_costa',\n",
       "  'category': 'cambio climático',\n",
       "  'text': 'La capital china moviliza embarcaciones militares a lo largo de la costa mientras aumentan las tensiones con Taiwán'}]"
      ]
     },
     "execution_count": 49,
     "metadata": {},
     "output_type": "execute_result"
    }
   ],
   "source": [
    "# Create embeddings with a graph index\n",
    "es_beddings = Embeddings(\n",
    "  path=model1,\n",
    "  content=True,\n",
    "  functions=[\n",
    "    {\"name\": \"graph\", \"function\": \"graph.attribute\"},\n",
    "  ],\n",
    "  expressions=[\n",
    "    {\"name\": \"category\", \"expression\": \"graph(indexid, 'category')\"},\n",
    "    {\"name\": \"topic\", \"expression\": \"graph(indexid, 'topic')\"},\n",
    "  ],\n",
    "  graph={\n",
    "    \"topics\": {\n",
    "      \"categories\": [\"cambio climático\", \"finanzas\", \"guerra\", \"enfermedades\"]\n",
    "    }\n",
    "  }\n",
    ")\n",
    "\n",
    "# historia feliz\", \"cambio climático\", \"salud pública\", \"enfermedades\", \"guerra\", \n",
    "# \"vida salvaje\", \"Asia\", \"asia\", \"suerte\", \"estafa\", \"timo\"): \n",
    "\n",
    "es_beddings.index(data_es)\n",
    "# It's a query, ex: \"SELECT x,y,z FROM txtai\"\n",
    "es_beddings.search(\"select topic, category, text from txtai\")"
   ]
  },
  {
   "cell_type": "code",
   "execution_count": 50,
   "metadata": {},
   "outputs": [
    {
     "data": {
      "text/plain": [
       "[{'topic': 'confirmados_eeuu_supera_millones',\n",
       "  'category': 'enfermedades',\n",
       "  'text': 'EEUU supera los 5 millones de casos confirmados de virus'},\n",
       " {'topic': 'gran_derrumba_del_un',\n",
       "  'category': 'finanzas',\n",
       "  'text': 'Se derrumba en Canadá una gran placa de hielo, formando un iceberg del tamaño de Manhattan'},\n",
       " {'topic': 'moviliza_capital_tensiones_costa',\n",
       "  'category': 'finanzas',\n",
       "  'text': 'La capital china moviliza embarcaciones militares a lo largo de la costa mientras aumentan las tensiones con Taiwán'}]"
      ]
     },
     "execution_count": 50,
     "metadata": {},
     "output_type": "execute_result"
    }
   ],
   "source": [
    "# Create embeddings with a graph index\n",
    "es2_beddings = Embeddings(\n",
    "  path=model2,\n",
    "  content=True,\n",
    "  functions=[\n",
    "    {\"name\": \"graph\", \"function\": \"graph.attribute\"},\n",
    "  ],\n",
    "  expressions=[\n",
    "    {\"name\": \"category\", \"expression\": \"graph(indexid, 'category')\"},\n",
    "    {\"name\": \"topic\", \"expression\": \"graph(indexid, 'topic')\"},\n",
    "  ],\n",
    "  graph={\n",
    "    \"topics\": {\n",
    "      \"categories\": [\"cambio climático\", \"finanzas\", \"guerra\", \"enfermedades\"]\n",
    "    }\n",
    "  }\n",
    ")\n",
    "\n",
    "# historia feliz\", \"cambio climático\", \"salud pública\", \"enfermedades\", \"guerra\", \n",
    "# \"vida salvaje\", \"Asia\", \"asia\", \"suerte\", \"estafa\", \"timo\"): \n",
    "\n",
    "es2_beddings.index(data_es)\n",
    "# It's a query, ex: \"SELECT x,y,z FROM txtai\"\n",
    "es2_beddings.search(\"select topic, category, text from txtai\")"
   ]
  },
  {
   "cell_type": "code",
   "execution_count": 51,
   "metadata": {},
   "outputs": [
    {
     "data": {
      "text/plain": [
       "[{'topic': 'confirmados_eeuu_supera_millones',\n",
       "  'category': 'finanzas',\n",
       "  'text': 'EEUU supera los 5 millones de casos confirmados de virus'},\n",
       " {'topic': 'gran_derrumba_del_un',\n",
       "  'category': 'finanzas',\n",
       "  'text': 'Se derrumba en Canadá una gran placa de hielo, formando un iceberg del tamaño de Manhattan'},\n",
       " {'topic': 'moviliza_capital_tensiones_costa',\n",
       "  'category': 'guerra',\n",
       "  'text': 'La capital china moviliza embarcaciones militares a lo largo de la costa mientras aumentan las tensiones con Taiwán'}]"
      ]
     },
     "execution_count": 51,
     "metadata": {},
     "output_type": "execute_result"
    }
   ],
   "source": [
    "# Create embeddings with a graph index\n",
    "es3_beddings = Embeddings(\n",
    "  path=model3,\n",
    "  content=True,\n",
    "  functions=[\n",
    "    {\"name\": \"graph\", \"function\": \"graph.attribute\"},\n",
    "  ],\n",
    "  expressions=[\n",
    "    {\"name\": \"category\", \"expression\": \"graph(indexid, 'category')\"},\n",
    "    {\"name\": \"topic\", \"expression\": \"graph(indexid, 'topic')\"},\n",
    "  ],\n",
    "  graph={\n",
    "    \"topics\": {\n",
    "      \"categories\": [\"cambio climático\", \"finanzas\", \"guerra\", \"enfermedades\"]\n",
    "    }\n",
    "  }\n",
    ")\n",
    "\n",
    "# historia feliz\", \"cambio climático\", \"salud pública\", \"enfermedades\", \"guerra\", \n",
    "# \"vida salvaje\", \"Asia\", \"asia\", \"suerte\", \"estafa\", \"timo\"): \n",
    "\n",
    "es3_beddings.index(data_es)\n",
    "# It's a query, ex: \"SELECT x,y,z FROM txtai\"\n",
    "es3_beddings.search(\"select topic, category, text from txtai\")"
   ]
  },
  {
   "cell_type": "markdown",
   "metadata": {},
   "source": [
    "---\n",
    "\n",
    "## LLM orchestration\n",
    "\n",
    "txtai is an all-in-one embeddings database. It is the only vector database that also supports sparse indexes, graph networks and relational databases with inline SQL support. In addition to this, txtai has support for LLM orchestration.\n",
    "\n",
    "The [RAG pipeline](https://neuml.github.io/txtai/pipeline/text/rag/) is txtai's spin on retrieval augmented generation (RAG). This pipeline extracts knowledge from content by joining a prompt, context data store and generative model together.\n",
    "\n",
    "The following example shows how a large language model (LLM) can use an embeddings database for context."
   ]
  },
  {
   "cell_type": "code",
   "execution_count": 52,
   "metadata": {},
   "outputs": [],
   "source": [
    "import torch\n",
    "from txtai import RAG"
   ]
  },
  {
   "cell_type": "code",
   "execution_count": 53,
   "metadata": {},
   "outputs": [
    {
     "name": "stderr",
     "output_type": "stream",
     "text": [
      "Device set to use mps\n"
     ]
    },
    {
     "data": {
      "text/plain": [
       "{'answer': 'Canada', 'reference': 'da633124-33ff-58d6-8ecb-14f7a44c042a'}"
      ]
     },
     "execution_count": 53,
     "metadata": {},
     "output_type": "execute_result"
    }
   ],
   "source": [
    "def prompt(question):\n",
    "  return [{\n",
    "    \"query\": question,\n",
    "    \"question\": f\"\"\"\n",
    "Answer the following question using the context below.\n",
    "Question: {question}\n",
    "Context:\n",
    "\"\"\"\n",
    "}]\n",
    "\n",
    "# Create embeddings\n",
    "en_beddings = Embeddings(path=\"sentence-transformers/nli-mpnet-base-v2\", content=True, autoid=\"uuid5\")\n",
    "\n",
    "# Create an index for the list of text\n",
    "en_beddings.index(data_en)\n",
    "\n",
    "# Create and run RAG instance\n",
    "rag = RAG(en_beddings, \"google/flan-t5-large\", torch_dtype=torch.bfloat16, output=\"reference\")\n",
    "rag(prompt(\"What country is having issues with climate change?\"))[0]"
   ]
  },
  {
   "cell_type": "code",
   "execution_count": 54,
   "metadata": {},
   "outputs": [
    {
     "name": "stderr",
     "output_type": "stream",
     "text": [
      "Device set to use mps\n"
     ]
    },
    {
     "data": {
      "text/plain": [
       "{'answer': 'Canadá', 'reference': 'b27bdf9b-9faa-579c-ad3d-7e19340f829b'}"
      ]
     },
     "execution_count": 54,
     "metadata": {},
     "output_type": "execute_result"
    }
   ],
   "source": [
    "def prompt_es(question):\n",
    "  return [{\n",
    "    \"query\": question,\n",
    "    \"question\": f\"\"\"    \n",
    "Responde a la siguiente pregunta empleando el contexto siguiente.\n",
    "Pregunta: {question}\n",
    "Contexto:\n",
    "\"\"\"\n",
    "}]\n",
    "\n",
    "# Create embeddings\n",
    "es_beddings = Embeddings(path=model1, \n",
    "                         content=True, \n",
    "                         autoid=\"uuid5\")\n",
    "\n",
    "# Create an index for the list of text\n",
    "es_beddings.index(data_es)\n",
    "\n",
    "# Create and run RAG instance\n",
    "rag_es = RAG(es_beddings, \"google/flan-t5-large\", torch_dtype=torch.bfloat16, output=\"reference\")\n",
    "rag_es(prompt_es(\"¿Qué país está teniendo problemas con el cambio climático?\"))[0]"
   ]
  },
  {
   "cell_type": "code",
   "execution_count": 55,
   "metadata": {},
   "outputs": [
    {
     "name": "stdout",
     "output_type": "stream",
     "text": [
      "¿Qué podría ser una estafa?:\n",
      "{'answer': 'Obtenga grandes ganancias sin trabajo, gane hasta $100000 al da', 'reference': '633fe8e9-ae99-55fb-9679-e1e952d40da9'}\n",
      "¿En que continente hay tensiones militares?:\n",
      "{'answer': 'North America', 'reference': 'a80dbf5b-610e-524e-9aaf-a689b635f586'}\n",
      "¿Donde ha ocurrido la historia feliz?:\n",
      "{'answer': 'Maine', 'reference': 'f74d6263-3017-5a3c-96e8-9e565c0d1c7c'}\n",
      "¿Qué podría ser un negocio fraudulento?:\n",
      "{'answer': 'Pregunta: EEUU supera los 5 millones de casos confirmados de virus', 'reference': '18a11a13-f4f9-5c85-92d7-c51f4bd88411'}\n",
      "¿De que ciudad salen los barcos militares?:\n",
      "{'answer': 'Taiwán', 'reference': 'a80dbf5b-610e-524e-9aaf-a689b635f586'}\n",
      "¿Con que animal hay problemas?:\n",
      "{'answer': 'Hombre de Maine', 'reference': 'f74d6263-3017-5a3c-96e8-9e565c0d1c7c'}\n"
     ]
    }
   ],
   "source": [
    "pregunta = \"¿Qué podría ser una estafa?\"\n",
    "out = rag_es(prompt_es(pregunta))[0]\n",
    "print(f\"{pregunta}:\\n{out}\")\n",
    "\n",
    "pregunta = \"¿En que continente hay tensiones militares?\"\n",
    "out = rag_es(prompt_es(pregunta))[0]\n",
    "print(f\"{pregunta}:\\n{out}\")\n",
    "\n",
    "pregunta = \"¿Donde ha ocurrido la historia feliz?\"\n",
    "out = rag_es(prompt_es(pregunta))[0]\n",
    "print(f\"{pregunta}:\\n{out}\")\n",
    "\n",
    "pregunta = \"¿Qué podría ser un negocio fraudulento?\"\n",
    "out = rag_es(prompt_es(pregunta))[0]\n",
    "print(f\"{pregunta}:\\n{out}\")\n",
    "\n",
    "pregunta = \"¿De que ciudad salen los barcos militares?\"\n",
    "out = rag_es(prompt_es(pregunta))[0]\n",
    "print(f\"{pregunta}:\\n{out}\")\n",
    "\n",
    "pregunta = \"¿Con que animal hay problemas?\"\n",
    "out = rag_es(prompt_es(pregunta))[0]\n",
    "print(f\"{pregunta}:\\n{out}\")"
   ]
  },
  {
   "cell_type": "code",
   "execution_count": 56,
   "metadata": {},
   "outputs": [
    {
     "name": "stderr",
     "output_type": "stream",
     "text": [
      "Device set to use mps\n"
     ]
    },
    {
     "data": {
      "text/plain": [
       "{'answer': 'Canadá', 'reference': 'b27bdf9b-9faa-579c-ad3d-7e19340f829b'}"
      ]
     },
     "execution_count": 56,
     "metadata": {},
     "output_type": "execute_result"
    }
   ],
   "source": [
    "def prompt_es(question):\n",
    "  return [{\n",
    "    \"query\": question,\n",
    "    \"question\": f\"\"\"    \n",
    "Responde a la siguiente pregunta empleando el contexto siguiente.\n",
    "Pregunta: {question}\n",
    "Contexto:\n",
    "\"\"\"\n",
    "}]\n",
    "\n",
    "# Create embeddings\n",
    "es2_beddings = Embeddings(path=model2, \n",
    "                         content=True, \n",
    "                         autoid=\"uuid5\")\n",
    "\n",
    "# Create an index for the list of text\n",
    "es2_beddings.index(data_es)\n",
    "\n",
    "# Create and run RAG instance\n",
    "rag2_es = RAG(es2_beddings, \"google/flan-t5-large\", torch_dtype=torch.bfloat16, output=\"reference\")\n",
    "rag2_es(prompt_es(\"¿Qué país está teniendo problemas con el cambio climático?\"))[0]"
   ]
  },
  {
   "cell_type": "code",
   "execution_count": 57,
   "metadata": {},
   "outputs": [
    {
     "name": "stdout",
     "output_type": "stream",
     "text": [
      "¿Qué podría ser una estafa?:\n",
      "{'answer': 'El Servicio de Parques Nacionales advierte del incremento de ataques de osos El Servicio de Parques Nacionales advierte del incremento de ataques de osos EEUU supera los 5 millones de casos confirmados de virus', 'reference': '380b2477-b71b-5642-b108-549aa221f56b'}\n",
      "¿En qué continente hay tensiones militares?:\n",
      "{'answer': 'Pregunta: EEUU', 'reference': 'a80dbf5b-610e-524e-9aaf-a689b635f586'}\n",
      "¿Donde ha ocurrido la historia feliz?:\n",
      "{'answer': 'Canadá', 'reference': 'b27bdf9b-9faa-579c-ad3d-7e19340f829b'}\n",
      "¿Qué podría ser un negocio fraudulento?:\n",
      "{'answer': 'Obtenga grandes ganancias sin trabajo, gane hasta $100000 al da', 'reference': '633fe8e9-ae99-55fb-9679-e1e952d40da9'}\n",
      "¿De que ciudad salen los barcos militares?:\n",
      "{'answer': 'Pregunta: EEUU supera los 5 millones de casos confirmados de virus', 'reference': '18a11a13-f4f9-5c85-92d7-c51f4bd88411'}\n",
      "¿Con que animal hay problemas?:\n",
      "{'answer': 'osos', 'reference': '380b2477-b71b-5642-b108-549aa221f56b'}\n"
     ]
    }
   ],
   "source": [
    "pregunta = \"¿Qué podría ser una estafa?\"\n",
    "out = rag2_es(prompt_es(pregunta))[0]\n",
    "print(f\"{pregunta}:\\n{out}\")\n",
    "\n",
    "pregunta = \"¿En qué continente hay tensiones militares?\"\n",
    "out = rag2_es(prompt_es(pregunta))[0]\n",
    "print(f\"{pregunta}:\\n{out}\")\n",
    "\n",
    "pregunta = \"¿Donde ha ocurrido la historia feliz?\"\n",
    "out = rag2_es(prompt_es(pregunta))[0]\n",
    "print(f\"{pregunta}:\\n{out}\")\n",
    "\n",
    "pregunta = \"¿Qué podría ser un negocio fraudulento?\"\n",
    "out = rag2_es(prompt_es(pregunta))[0]\n",
    "print(f\"{pregunta}:\\n{out}\")\n",
    "\n",
    "pregunta = \"¿De que ciudad salen los barcos militares?\"\n",
    "out = rag2_es(prompt_es(pregunta))[0]\n",
    "print(f\"{pregunta}:\\n{out}\")\n",
    "\n",
    "pregunta = \"¿Con que animal hay problemas?\"\n",
    "out = rag2_es(prompt_es(pregunta))[0]\n",
    "print(f\"{pregunta}:\\n{out}\")"
   ]
  },
  {
   "cell_type": "code",
   "execution_count": 58,
   "metadata": {},
   "outputs": [
    {
     "name": "stderr",
     "output_type": "stream",
     "text": [
      "Device set to use mps\n"
     ]
    },
    {
     "data": {
      "text/plain": [
       "{'answer': 'Maine', 'reference': '380b2477-b71b-5642-b108-549aa221f56b'}"
      ]
     },
     "execution_count": 58,
     "metadata": {},
     "output_type": "execute_result"
    }
   ],
   "source": [
    "# Create embeddings\n",
    "es3_beddings = Embeddings(path=model3, \n",
    "                         content=True, \n",
    "                         autoid=\"uuid5\")\n",
    "\n",
    "# Create an index for the list of text\n",
    "es3_beddings.index(data_es)\n",
    "\n",
    "# Create and run RAG instance\n",
    "rag3_es = RAG(es3_beddings, \"google/flan-t5-large\", torch_dtype=torch.bfloat16, output=\"reference\")\n",
    "rag3_es(prompt_es(\"¿Qué país está teniendo problemas con el cambio climático?\"))[0]"
   ]
  },
  {
   "cell_type": "code",
   "execution_count": 59,
   "metadata": {},
   "outputs": [
    {
     "name": "stdout",
     "output_type": "stream",
     "text": [
      "¿Qué podría ser una estafa?:\n",
      "{'answer': 'Obtenga grandes ganancias sin trabajo, gane hasta $100000 al da', 'reference': '633fe8e9-ae99-55fb-9679-e1e952d40da9'}\n",
      "¿En qué continente hay tensiones militares?:\n",
      "{'answer': 'El Servicio de Parques Nacionales', 'reference': 'a80dbf5b-610e-524e-9aaf-a689b635f586'}\n",
      "¿Donde ha ocurrido la historia feliz?:\n",
      "{'answer': 'Se derrumba en Canadá una gran placa de hielo, formando un iceberg del tamao de Manhattan', 'reference': 'b27bdf9b-9faa-579c-ad3d-7e19340f829b'}\n",
      "¿Qué podría ser un negocio fraudulento?:\n",
      "{'answer': 'Hombre de Maine gana $1M con un billete de lotera de $25', 'reference': 'f74d6263-3017-5a3c-96e8-9e565c0d1c7c'}\n",
      "¿De que ciudad salen los barcos militares?:\n",
      "{'answer': 'La capital china', 'reference': 'a80dbf5b-610e-524e-9aaf-a689b635f586'}\n",
      "¿Con que animal hay problemas?:\n",
      "{'answer': 'Hombre de Maine', 'reference': 'f74d6263-3017-5a3c-96e8-9e565c0d1c7c'}\n"
     ]
    }
   ],
   "source": [
    "pregunta = \"¿Qué podría ser una estafa?\"\n",
    "out = rag3_es(prompt_es(pregunta))[0]\n",
    "print(f\"{pregunta}:\\n{out}\")\n",
    "\n",
    "pregunta = \"¿En qué continente hay tensiones militares?\"\n",
    "out = rag3_es(prompt_es(pregunta))[0]\n",
    "print(f\"{pregunta}:\\n{out}\")\n",
    "\n",
    "pregunta = \"¿Donde ha ocurrido la historia feliz?\"\n",
    "out = rag3_es(prompt_es(pregunta))[0]\n",
    "print(f\"{pregunta}:\\n{out}\")\n",
    "\n",
    "pregunta = \"¿Qué podría ser un negocio fraudulento?\"\n",
    "out = rag3_es(prompt_es(pregunta))[0]\n",
    "print(f\"{pregunta}:\\n{out}\")\n",
    "\n",
    "pregunta = \"¿De que ciudad salen los barcos militares?\"\n",
    "out = rag3_es(prompt_es(pregunta))[0]\n",
    "print(f\"{pregunta}:\\n{out}\")\n",
    "\n",
    "pregunta = \"¿Con que animal hay problemas?\"\n",
    "out = rag3_es(prompt_es(pregunta))[0]\n",
    "print(f\"{pregunta}:\\n{out}\")"
   ]
  }
 ],
 "metadata": {
  "kernelspec": {
   "display_name": ".env",
   "language": "python",
   "name": "python3"
  },
  "language_info": {
   "codemirror_mode": {
    "name": "ipython",
    "version": 3
   },
   "file_extension": ".py",
   "mimetype": "text/x-python",
   "name": "python",
   "nbconvert_exporter": "python",
   "pygments_lexer": "ipython3",
   "version": "3.12.7"
  }
 },
 "nbformat": 4,
 "nbformat_minor": 2
}
