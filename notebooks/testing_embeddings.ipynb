{
 "cells": [
  {
   "cell_type": "markdown",
   "metadata": {},
   "source": [
    "# Testing txtai embeddings\n",
    "\n",
    "This notebook checks txtai embedding capabilities"
   ]
  },
  {
   "cell_type": "markdown",
   "metadata": {},
   "source": [
    "We will use Don Quijote book from project Gutenberg"
   ]
  },
  {
   "cell_type": "code",
   "execution_count": 2,
   "metadata": {},
   "outputs": [
    {
     "name": "stderr",
     "output_type": "stream",
     "text": [
      "/Users/javicm/dev/mytxtai_RAG/.env/lib/python3.12/site-packages/tqdm/auto.py:21: TqdmWarning: IProgress not found. Please update jupyter and ipywidgets. See https://ipywidgets.readthedocs.io/en/stable/user_install.html\n",
      "  from .autonotebook import tqdm as notebook_tqdm\n",
      "/Users/javicm/dev/mytxtai_RAG/.env/lib/python3.12/site-packages/pydantic/_internal/_config.py:345: UserWarning: Valid config keys have changed in V2:\n",
      "* 'fields' has been removed\n",
      "  warnings.warn(message, UserWarning)\n"
     ]
    }
   ],
   "source": [
    "from txtai import Embeddings"
   ]
  },
  {
   "cell_type": "code",
   "execution_count": 3,
   "metadata": {},
   "outputs": [],
   "source": [
    "# !curl https://www.gutenberg.org/cache/epub/2000/pg2000.txt -o ../input/Don_Quijote.txt"
   ]
  },
  {
   "cell_type": "markdown",
   "metadata": {},
   "source": [
    "## Embeddings models\n",
    "\n",
    "By default the model use is 'all-MiniLM-l6-v2' (https://neuml.github.io/txtai/models/). This model is light and its allowed even for commercial use. \n",
    "\n",
    "Here is the official Embedding page from txtai:  https://neuml.github.io/txtai/embeddings/\n",
    "\n",
    "Short tutorial: [colab](https://colab.research.google.com/github/neuml/txtai/blob/master/examples/01_Introducing_txtai.ipynb#scrollTo=QxX9EtIc6Xzg)\n",
    "\n",
    "Here is a table of some relevant models that can be used:\n",
    "\n",
    "\n",
    "| Model | Dimensions | Size | Speed | Spanish Performance | English Performance | Multilingual Support | Memory Usage | Best Use Case |\n",
    "|-------|------------|------|-------|-------------------|-------------------|-------------------|---------------|--------------|\n",
    "| all-MiniLM-L6-v2 | 384 | ~80MB | Very Fast | Medium (6.5/10) | Excellent (9/10) | Limited | Low | English-focused projects with resource constraints |\n",
    "| nli-mpnet-base-v2 | 768 | ~420MB | Medium | Medium (6/10) | Excellent (9.5/10) | Limited | High | High-precision English semantic tasks |\n",
    "| paraphrase-multilingual-mpnet-base-v2 | 768 | ~1.1GB | Slow | Excellent (8.5/10) | Excellent (9/10) | Strong (100+ languages) | High | Production multilingual applications |\n",
    "| LaBSE | 768 | ~1.5GB | Slow | Excellent (9/10) | Excellent (8.5/10) | Strong (109 languages) | Very High | Cross-lingual information retrieval |"
   ]
  },
  {
   "cell_type": "markdown",
   "metadata": {},
   "source": [
    "Declare data in spanish and english to check how txtai embeddings works with different models"
   ]
  },
  {
   "cell_type": "code",
   "execution_count": 4,
   "metadata": {},
   "outputs": [],
   "source": [
    "data_es = [\n",
    "  \"EEUU supera los 5 millones de casos confirmados de virus\",\n",
    "  \"La última plataforma de hielo intacta de Canadá se derrumba repentinamente, formando un iceberg del tamaño de Manhattan\",\n",
    "  \"Pekín moviliza embarcaciones de invasión a lo largo de la costa mientras aumentan las tensiones con Taiwán\",\n",
    "  \"El Servicio de Parques Nacionales advierte contra sacrificar amigos más lentos en un ataque de oso\",\n",
    "  \"Hombre de Maine gana $1M con un billete de lotería de $25\",\n",
    "  \"Obtenga grandes ganancias sin trabajo, gane hasta $100,000 al día\"\n",
    "]\n",
    "\n",
    "data_en = [\n",
    "  \"US tops 5 million confirmed virus cases\",\n",
    "  \"Canada's last fully intact ice shelf has suddenly collapsed, forming a Manhattan-sized iceberg\",\n",
    "  \"Beijing mobilises invasion craft along coast as Taiwan tensions escalate\",\n",
    "  \"The National Park Service warns against sacrificing slower friends in a bear attack\",\n",
    "  \"Maine man wins $1M from $25 lottery ticket\",\n",
    "  \"Make huge profits without work, earn up to $100,000 a day\"\n",
    "]"
   ]
  },
  {
   "cell_type": "markdown",
   "metadata": {},
   "source": [
    "Create embeddings for english and spanish text"
   ]
  },
  {
   "cell_type": "code",
   "execution_count": 5,
   "metadata": {},
   "outputs": [],
   "source": [
    "# Create an embedding for english text\n",
    "en_beddings = Embeddings(path=\"sentence-transformers/nli-mpnet-base-v2\")"
   ]
  },
  {
   "cell_type": "code",
   "execution_count": 6,
   "metadata": {},
   "outputs": [],
   "source": [
    "# Create an embedding for spanish text\n",
    "es_beddings = Embeddings(path=\"sentence-transformers/paraphrase-multilingual-mpnet-base-v2\")"
   ]
  },
  {
   "cell_type": "markdown",
   "metadata": {},
   "source": [
    "Lets check if we can retrieve the sentences with some queries\n",
    "\n",
    "### English embeddings:"
   ]
  },
  {
   "cell_type": "code",
   "execution_count": 7,
   "metadata": {},
   "outputs": [
    {
     "name": "stdout",
     "output_type": "stream",
     "text": [
      "Query                Best Match\n",
      "--------------------------------------------------\n",
      "feel good story      Maine man wins $1M from $25 lottery ticket\n",
      "climate change       Canada's last fully intact ice shelf has suddenly collapsed, forming a Manhattan-sized iceberg\n",
      "public health story  US tops 5 million confirmed virus cases\n",
      "war                  Beijing mobilises invasion craft along coast as Taiwan tensions escalate\n",
      "wildlife             The National Park Service warns against sacrificing slower friends in a bear attack\n",
      "asia                 Beijing mobilises invasion craft along coast as Taiwan tensions escalate\n",
      "lucky                Maine man wins $1M from $25 lottery ticket\n",
      "dishonest junk       Make huge profits without work, earn up to $100,000 a day\n"
     ]
    }
   ],
   "source": [
    "# English embeddings with english data\n",
    "\n",
    "# Create an index for the list of text\n",
    "en_beddings.index(data_en)\n",
    "\n",
    "print(\"%-20s %s\" % (\"Query\", \"Best Match\"))\n",
    "print(\"-\" * 50)\n",
    "\n",
    "# Run an embeddings search for each query\n",
    "for query in (\"feel good story\", \"climate change\", \"public health story\", \"war\", \"wildlife\", \"asia\", \"lucky\", \"dishonest junk\"):\n",
    "  # Extract uid of first result\n",
    "  # search result format: (uid, score)\n",
    "  uid = en_beddings.search(query, 1)[0][0]\n",
    "\n",
    "  # Print text\n",
    "  print(\"%-20s %s\" % (query, data_en[uid]))"
   ]
  },
  {
   "cell_type": "code",
   "execution_count": 8,
   "metadata": {},
   "outputs": [
    {
     "name": "stdout",
     "output_type": "stream",
     "text": [
      "Query                Best Match\n",
      "--------------------------------------------------\n",
      "historia feliz       El Servicio de Parques Nacionales advierte contra sacrificar amigos más lentos en un ataque de oso\n",
      "cambio climático     El Servicio de Parques Nacionales advierte contra sacrificar amigos más lentos en un ataque de oso\n",
      "salud pública        El Servicio de Parques Nacionales advierte contra sacrificar amigos más lentos en un ataque de oso\n",
      "guerra               El Servicio de Parques Nacionales advierte contra sacrificar amigos más lentos en un ataque de oso\n",
      "vida salvaje         El Servicio de Parques Nacionales advierte contra sacrificar amigos más lentos en un ataque de oso\n",
      "asia                 Pekín moviliza embarcaciones de invasión a lo largo de la costa mientras aumentan las tensiones con Taiwán\n",
      "suerte               La última plataforma de hielo intacta de Canadá se derrumba repentinamente, formando un iceberg del tamaño de Manhattan\n",
      "estafa               El Servicio de Parques Nacionales advierte contra sacrificar amigos más lentos en un ataque de oso\n"
     ]
    }
   ],
   "source": [
    "# English embeddings with spanish data\n",
    "\n",
    "# Create an index for the list of text\n",
    "en_beddings.index(data_es)\n",
    "\n",
    "print(\"%-20s %s\" % (\"Query\", \"Best Match\"))\n",
    "print(\"-\" * 50)\n",
    "\n",
    "# Run an embeddings search for each query\n",
    "for query in (\"historia feliz\", \"cambio climático\", \"salud pública\", \"guerra\", \"vida salvaje\", \"asia\", \"suerte\", \"estafa\"):\n",
    "  # Extract uid of first result\n",
    "  # search result format: (uid, score)\n",
    "  uid = en_beddings.search(query, 1)[0][0]\n",
    "\n",
    "  # Print text\n",
    "  print(\"%-20s %s\" % (query, data_es[uid]))"
   ]
  },
  {
   "cell_type": "markdown",
   "metadata": {},
   "source": [
    "### Spanish embeddings:\n",
    "\n",
    "I have employed several models but all of them perform worse than \"paraphrase-multilingual-mpnet-base-v2\".\n",
    "\n",
    "Additionally, it appears to be quite sensitive to words with or without capitalization and doesn't seem to work well with synonyms."
   ]
  },
  {
   "cell_type": "code",
   "execution_count": 20,
   "metadata": {},
   "outputs": [
    {
     "name": "stdout",
     "output_type": "stream",
     "text": [
      "Query                Mejor coincidencia\n",
      "--------------------------------------------------\n",
      "historia feliz       Obtenga grandes ganancias sin trabajo, gane hasta $100,000 al día\n",
      "cambio climático     La última plataforma de hielo intacta de Canadá se derrumba repentinamente, formando un iceberg del tamaño de Manhattan\n",
      "salud pública        El Servicio de Parques Nacionales advierte contra sacrificar amigos más lentos en un ataque de oso\n",
      "enfermedades         EEUU supera los 5 millones de casos confirmados de virus\n",
      "guerra               Pekín moviliza embarcaciones de invasión a lo largo de la costa mientras aumentan las tensiones con Taiwán\n",
      "vida salvaje         El Servicio de Parques Nacionales advierte contra sacrificar amigos más lentos en un ataque de oso\n",
      "Asia                 Pekín moviliza embarcaciones de invasión a lo largo de la costa mientras aumentan las tensiones con Taiwán\n",
      "asia                 La última plataforma de hielo intacta de Canadá se derrumba repentinamente, formando un iceberg del tamaño de Manhattan\n",
      "suerte               Hombre de Maine gana $1M con un billete de lotería de $25\n",
      "estafa               Hombre de Maine gana $1M con un billete de lotería de $25\n",
      "timo                 El Servicio de Parques Nacionales advierte contra sacrificar amigos más lentos en un ataque de oso\n"
     ]
    }
   ],
   "source": [
    "# Spanish embeddings with spanish data\n",
    "# (paraphrase-multilingual-mpnet-base-v2)\n",
    "\n",
    "# Create an index for the list of text\n",
    "es_beddings.index(data_es)\n",
    "\n",
    "print(\"%-20s %s\" % (\"Query\", \"Mejor coincidencia\"))\n",
    "print(\"-\" * 50)\n",
    "\n",
    "# Run an embeddings search for each query\n",
    "for query in (\"historia feliz\", \"cambio climático\", \"salud pública\", \"enfermedades\", \"guerra\", \"vida salvaje\", \"Asia\", \"asia\", \"suerte\", \"estafa\", \"timo\"):\n",
    "  # Extract uid of first result\n",
    "  # search result format: (uid, score)\n",
    "  uid = es_beddings.search(query, 1)[0][0]\n",
    "\n",
    "  # Print text\n",
    "  print(\"%-20s %s\" % (query, data_es[uid]))"
   ]
  },
  {
   "cell_type": "markdown",
   "metadata": {},
   "source": [
    "**Context**:\n",
    "We can see that \"salud pública\" query doesn't math with virus story.\n",
    "\n",
    "**Lower/upper case**:\n",
    "\n",
    "It doesn't get the same answer with 'Asia' and 'asia'\n",
    "\n",
    "**Synonyms**:\n",
    "\n",
    "estafa and timo are synonyms but they don't match in this example"
   ]
  },
  {
   "cell_type": "markdown",
   "metadata": {},
   "source": [
    "## Hybrid search"
   ]
  },
  {
   "cell_type": "code",
   "execution_count": 31,
   "metadata": {},
   "outputs": [
    {
     "name": "stdout",
     "output_type": "stream",
     "text": [
      "Query                Best Match\n",
      "--------------------------------------------------\n",
      "feel good story      Maine man wins $1M from $25 lottery ticket\n",
      "climate change       Canada's last fully intact ice shelf has suddenly collapsed, forming a Manhattan-sized iceberg\n",
      "public health story  US tops 5 million confirmed virus cases\n",
      "war                  Beijing mobilises invasion craft along coast as Taiwan tensions escalate\n",
      "wildlife             The National Park Service warns against sacrificing slower friends in a bear attack\n",
      "asia                 Beijing mobilises invasion craft along coast as Taiwan tensions escalate\n",
      "lucky                Maine man wins $1M from $25 lottery ticket\n",
      "dishonest junk       Make huge profits without work, earn up to $100,000 a day\n"
     ]
    }
   ],
   "source": [
    "# Create an embeddings\n",
    "en_beddings = Embeddings(hybrid=True, path=\"sentence-transformers/nli-mpnet-base-v2\")\n",
    "\n",
    "# Create an index for the list of text\n",
    "en_beddings.index(data_en)\n",
    "\n",
    "print(\"%-20s %s\" % (\"Query\", \"Best Match\"))\n",
    "print(\"-\" * 50)\n",
    "\n",
    "# Run an embeddings search for each query\n",
    "for query in (\"feel good story\", \"climate change\", \"public health story\", \"war\", \"wildlife\", \"asia\", \"lucky\", \"dishonest junk\"):\n",
    "  # Extract uid of first result\n",
    "  # search result format: (uid, score)\n",
    "  uid = en_beddings.search(query, 1)[0][0]\n",
    "\n",
    "  # Print text\n",
    "  print(\"%-20s %s\" % (query, data_en[uid]))"
   ]
  },
  {
   "cell_type": "markdown",
   "metadata": {},
   "source": [
    "Same results as with semantic search. Let's run the same example with just a keyword index to view those results."
   ]
  },
  {
   "cell_type": "code",
   "execution_count": 33,
   "metadata": {},
   "outputs": [
    {
     "name": "stdout",
     "output_type": "stream",
     "text": [
      "[]\n",
      "[(4, np.float64(0.5234998733628726))]\n"
     ]
    }
   ],
   "source": [
    "# Create an embeddings\n",
    "en_beddings = Embeddings(keyword=True)\n",
    "\n",
    "# Create an index for the list of text\n",
    "en_beddings.index(data_en)\n",
    "\n",
    "print(en_beddings.search(\"feel good story\"))\n",
    "print(en_beddings.search(\"lottery\"))"
   ]
  },
  {
   "cell_type": "markdown",
   "metadata": {},
   "source": [
    "See that when the embeddings instance only uses a keyword index, it can't find semantic matches, only keyword matches.\n",
    "\n",
    "---\n",
    "\n",
    "Now in spanish"
   ]
  },
  {
   "cell_type": "code",
   "execution_count": 34,
   "metadata": {},
   "outputs": [
    {
     "name": "stdout",
     "output_type": "stream",
     "text": [
      "Query                Best Match\n",
      "--------------------------------------------------\n",
      "historia feliz       Obtenga grandes ganancias sin trabajo, gane hasta $100,000 al día\n",
      "cambio climático     La última plataforma de hielo intacta de Canadá se derrumba repentinamente, formando un iceberg del tamaño de Manhattan\n",
      "salud pública        El Servicio de Parques Nacionales advierte contra sacrificar amigos más lentos en un ataque de oso\n",
      "enfermedades         EEUU supera los 5 millones de casos confirmados de virus\n",
      "guerra               Pekín moviliza embarcaciones de invasión a lo largo de la costa mientras aumentan las tensiones con Taiwán\n",
      "vida salvaje         El Servicio de Parques Nacionales advierte contra sacrificar amigos más lentos en un ataque de oso\n",
      "Asia                 Pekín moviliza embarcaciones de invasión a lo largo de la costa mientras aumentan las tensiones con Taiwán\n",
      "asia                 La última plataforma de hielo intacta de Canadá se derrumba repentinamente, formando un iceberg del tamaño de Manhattan\n",
      "suerte               Hombre de Maine gana $1M con un billete de lotería de $25\n",
      "estafa               Hombre de Maine gana $1M con un billete de lotería de $25\n",
      "timo                 El Servicio de Parques Nacionales advierte contra sacrificar amigos más lentos en un ataque de oso\n"
     ]
    }
   ],
   "source": [
    "# Create an embeddings\n",
    "es_beddings = Embeddings(hybrid=True, path=\"sentence-transformers/paraphrase-multilingual-mpnet-base-v2\")\n",
    "\n",
    "# Create an index for the list of text\n",
    "es_beddings.index(data_es)\n",
    "\n",
    "print(\"%-20s %s\" % (\"Query\", \"Best Match\"))\n",
    "print(\"-\" * 50)\n",
    "\n",
    "# Run an embeddings search for each query\n",
    "for query in (\"historia feliz\", \"cambio climático\", \"salud pública\", \"enfermedades\", \"guerra\", \"vida salvaje\", \"Asia\", \"asia\", \"suerte\", \"estafa\", \"timo\"):\n",
    "  # Extract uid of first result\n",
    "  # search result format: (uid, score)\n",
    "  uid = es_beddings.search(query, 1)[0][0]\n",
    "\n",
    "  # Print text\n",
    "  print(\"%-20s %s\" % (query, data_es[uid]))"
   ]
  },
  {
   "cell_type": "code",
   "execution_count": 35,
   "metadata": {},
   "outputs": [
    {
     "name": "stdout",
     "output_type": "stream",
     "text": [
      "[]\n",
      "[(4, np.float64(0.4956687859191595))]\n"
     ]
    }
   ],
   "source": [
    "# Create an embeddings\n",
    "es_beddings = Embeddings(keyword=True)\n",
    "\n",
    "# Create an index for the list of text\n",
    "es_beddings.index(data_es)\n",
    "\n",
    "print(es_beddings.search(\"historia feliz\"))\n",
    "print(es_beddings.search(\"lotería\"))"
   ]
  }
 ],
 "metadata": {
  "kernelspec": {
   "display_name": ".env",
   "language": "python",
   "name": "python3"
  },
  "language_info": {
   "codemirror_mode": {
    "name": "ipython",
    "version": 3
   },
   "file_extension": ".py",
   "mimetype": "text/x-python",
   "name": "python",
   "nbconvert_exporter": "python",
   "pygments_lexer": "ipython3",
   "version": "3.12.7"
  }
 },
 "nbformat": 4,
 "nbformat_minor": 2
}
